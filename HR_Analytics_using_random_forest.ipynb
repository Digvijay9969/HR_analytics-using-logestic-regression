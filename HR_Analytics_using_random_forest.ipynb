{
 "cells": [
  {
   "cell_type": "markdown",
   "id": "0986f2d9",
   "metadata": {},
   "source": [
    "# HR_analytics"
   ]
  },
  {
   "cell_type": "code",
   "execution_count": 125,
   "id": "bf021ec5",
   "metadata": {},
   "outputs": [],
   "source": [
    "import os\n",
    "import pandas as pd\n",
    "import numpy as np"
   ]
  },
  {
   "cell_type": "markdown",
   "id": "a0f4f00e",
   "metadata": {},
   "source": [
    "adding path"
   ]
  },
  {
   "cell_type": "code",
   "execution_count": 126,
   "id": "cce0dafa",
   "metadata": {},
   "outputs": [],
   "source": [
    "os.chdir(\"D:/D_S/HR_Analytics_project\")"
   ]
  },
  {
   "cell_type": "code",
   "execution_count": 127,
   "id": "64b3a3cb",
   "metadata": {},
   "outputs": [],
   "source": [
    "fullraw=pd.read_csv(\"train.csv\")"
   ]
  },
  {
   "cell_type": "code",
   "execution_count": 128,
   "id": "d3ff85fa",
   "metadata": {},
   "outputs": [
    {
     "data": {
      "text/plain": [
       "Index(['employee_id', 'department', 'region', 'education', 'gender',\n",
       "       'recruitment_channel', 'no_of_trainings', 'age', 'previous_year_rating',\n",
       "       'length_of_service', 'KPIs_met >80%', 'awards_won?',\n",
       "       'avg_training_score', 'is_promoted'],\n",
       "      dtype='object')"
      ]
     },
     "execution_count": 128,
     "metadata": {},
     "output_type": "execute_result"
    }
   ],
   "source": [
    "fullraw.columns"
   ]
  },
  {
   "cell_type": "code",
   "execution_count": 129,
   "id": "2008ac94",
   "metadata": {},
   "outputs": [],
   "source": [
    "predDf=pd.read_csv('test.csv')"
   ]
  },
  {
   "cell_type": "markdown",
   "id": "803dffd9",
   "metadata": {},
   "source": [
    "### adding is_promoted column in predDf"
   ]
  },
  {
   "cell_type": "code",
   "execution_count": 130,
   "id": "2947071f",
   "metadata": {},
   "outputs": [],
   "source": [
    "predDf['is_promoted']=0"
   ]
  },
  {
   "cell_type": "code",
   "execution_count": 131,
   "id": "5b34f46d",
   "metadata": {},
   "outputs": [
    {
     "data": {
      "text/plain": [
       "(23490, 14)"
      ]
     },
     "execution_count": 131,
     "metadata": {},
     "output_type": "execute_result"
    }
   ],
   "source": [
    "predDf.shape"
   ]
  },
  {
   "cell_type": "code",
   "execution_count": 132,
   "id": "0d81bde8",
   "metadata": {},
   "outputs": [
    {
     "data": {
      "text/plain": [
       "Index(['employee_id', 'department', 'region', 'education', 'gender',\n",
       "       'recruitment_channel', 'no_of_trainings', 'age', 'previous_year_rating',\n",
       "       'length_of_service', 'KPIs_met >80%', 'awards_won?',\n",
       "       'avg_training_score', 'is_promoted'],\n",
       "      dtype='object')"
      ]
     },
     "execution_count": 132,
     "metadata": {},
     "output_type": "execute_result"
    }
   ],
   "source": [
    "predDf.columns"
   ]
  },
  {
   "cell_type": "markdown",
   "id": "d9037bc6",
   "metadata": {},
   "source": [
    "### splitting data in fullraw traindf and testdf"
   ]
  },
  {
   "cell_type": "code",
   "execution_count": 133,
   "id": "17d46ae7",
   "metadata": {},
   "outputs": [],
   "source": [
    "from sklearn.model_selection import train_test_split\n",
    "trainDf, testDf = train_test_split(fullraw,train_size=0.7,random_state=97)"
   ]
  },
  {
   "cell_type": "code",
   "execution_count": 134,
   "id": "dbfa012f",
   "metadata": {},
   "outputs": [],
   "source": [
    "# create source column in train test and predDf\n",
    "trainDf['Source']='Train'\n",
    "testDf['Source']='Test'\n",
    "predDf['Source']= 'prediction'\n",
    "\n"
   ]
  },
  {
   "cell_type": "code",
   "execution_count": 135,
   "id": "8e0d8e18",
   "metadata": {},
   "outputs": [
    {
     "data": {
      "text/plain": [
       "Index(['employee_id', 'department', 'region', 'education', 'gender',\n",
       "       'recruitment_channel', 'no_of_trainings', 'age', 'previous_year_rating',\n",
       "       'length_of_service', 'KPIs_met >80%', 'awards_won?',\n",
       "       'avg_training_score', 'is_promoted', 'Source'],\n",
       "      dtype='object')"
      ]
     },
     "execution_count": 135,
     "metadata": {},
     "output_type": "execute_result"
    }
   ],
   "source": [
    "#combine train , test and prediction in fullraw\n",
    "fullraw=pd.concat([trainDf,testDf,predDf],axis=0)\n",
    "fullraw.shape\n",
    "fullraw.columns"
   ]
  },
  {
   "cell_type": "code",
   "execution_count": 136,
   "id": "819642e1",
   "metadata": {},
   "outputs": [
    {
     "data": {
      "text/plain": [
       "employee_id                0\n",
       "department                 0\n",
       "region                     0\n",
       "education               3443\n",
       "gender                     0\n",
       "recruitment_channel        0\n",
       "no_of_trainings            0\n",
       "age                        0\n",
       "previous_year_rating    5936\n",
       "length_of_service          0\n",
       "KPIs_met >80%              0\n",
       "awards_won?                0\n",
       "avg_training_score         0\n",
       "is_promoted                0\n",
       "Source                     0\n",
       "dtype: int64"
      ]
     },
     "execution_count": 136,
     "metadata": {},
     "output_type": "execute_result"
    }
   ],
   "source": [
    "# check for NA values in fullraw table\n",
    "fullraw.isna().sum()"
   ]
  },
  {
   "cell_type": "code",
   "execution_count": 137,
   "id": "8da882fe",
   "metadata": {},
   "outputs": [
    {
     "name": "stdout",
     "output_type": "stream",
     "text": [
      "Null Values Found in Column :* education\n",
      "Null Values Found in Column :* previous_year_rating\n"
     ]
    }
   ],
   "source": [
    "# Filling NA values using mode and median\n",
    "'''tempMode = fullraw.loc[fullraw['Source']=='Train','education'].mode()[0]\n",
    "tempMode\n",
    "fullraw['education'].fillna(tempMode,inplace=True)\n",
    "'''\n",
    "for col in fullraw.columns:\n",
    "    if((fullraw[col].isna().sum())>0):\n",
    "        print(\"Null Values Found in Column :*\",col)\n",
    "    if((fullraw[col].dtypes=='float64') or (fullraw[col].dtypes == 'int64')):\n",
    "        tempMedian=fullraw.loc[fullraw['Source']=='Train',col].median()\n",
    "        tempMedian\n",
    "        fullraw[col].fillna(tempMedian,inplace=True)\n",
    "    elif(fullraw[col].dtypes == \"O\"):\n",
    "        tempMode=fullraw.loc[fullraw['Source']== 'Train',col].mode()[0]\n",
    "        tempMode\n",
    "        fullraw[col].fillna(tempMode,inplace=True)\n",
    "    else:\n",
    "        print(\"No Null Values Found in :\",col)\n"
   ]
  },
  {
   "cell_type": "code",
   "execution_count": 138,
   "id": "3bc7ed26",
   "metadata": {},
   "outputs": [
    {
     "data": {
      "text/plain": [
       "employee_id             0\n",
       "department              0\n",
       "region                  0\n",
       "education               0\n",
       "gender                  0\n",
       "recruitment_channel     0\n",
       "no_of_trainings         0\n",
       "age                     0\n",
       "previous_year_rating    0\n",
       "length_of_service       0\n",
       "KPIs_met >80%           0\n",
       "awards_won?             0\n",
       "avg_training_score      0\n",
       "is_promoted             0\n",
       "Source                  0\n",
       "dtype: int64"
      ]
     },
     "execution_count": 138,
     "metadata": {},
     "output_type": "execute_result"
    }
   ],
   "source": [
    "fullraw.isna().sum()"
   ]
  },
  {
   "cell_type": "code",
   "execution_count": 139,
   "id": "80116c92",
   "metadata": {},
   "outputs": [
    {
     "data": {
      "text/html": [
       "<div>\n",
       "<style scoped>\n",
       "    .dataframe tbody tr th:only-of-type {\n",
       "        vertical-align: middle;\n",
       "    }\n",
       "\n",
       "    .dataframe tbody tr th {\n",
       "        vertical-align: top;\n",
       "    }\n",
       "\n",
       "    .dataframe thead th {\n",
       "        text-align: right;\n",
       "    }\n",
       "</style>\n",
       "<table border=\"1\" class=\"dataframe\">\n",
       "  <thead>\n",
       "    <tr style=\"text-align: right;\">\n",
       "      <th></th>\n",
       "      <th>employee_id</th>\n",
       "      <th>department</th>\n",
       "      <th>region</th>\n",
       "      <th>education</th>\n",
       "      <th>gender</th>\n",
       "      <th>recruitment_channel</th>\n",
       "      <th>no_of_trainings</th>\n",
       "      <th>age</th>\n",
       "      <th>previous_year_rating</th>\n",
       "      <th>length_of_service</th>\n",
       "      <th>KPIs_met &gt;80%</th>\n",
       "      <th>awards_won?</th>\n",
       "      <th>avg_training_score</th>\n",
       "      <th>is_promoted</th>\n",
       "      <th>Source</th>\n",
       "    </tr>\n",
       "  </thead>\n",
       "  <tbody>\n",
       "    <tr>\n",
       "      <th>45986</th>\n",
       "      <td>52109</td>\n",
       "      <td>Technology</td>\n",
       "      <td>region_31</td>\n",
       "      <td>Bachelor's</td>\n",
       "      <td>f</td>\n",
       "      <td>other</td>\n",
       "      <td>1</td>\n",
       "      <td>27</td>\n",
       "      <td>2.0</td>\n",
       "      <td>2</td>\n",
       "      <td>0</td>\n",
       "      <td>0</td>\n",
       "      <td>79</td>\n",
       "      <td>0</td>\n",
       "      <td>Train</td>\n",
       "    </tr>\n",
       "    <tr>\n",
       "      <th>5418</th>\n",
       "      <td>5043</td>\n",
       "      <td>Procurement</td>\n",
       "      <td>region_7</td>\n",
       "      <td>Master's &amp; above</td>\n",
       "      <td>f</td>\n",
       "      <td>sourcing</td>\n",
       "      <td>1</td>\n",
       "      <td>59</td>\n",
       "      <td>3.0</td>\n",
       "      <td>18</td>\n",
       "      <td>0</td>\n",
       "      <td>0</td>\n",
       "      <td>70</td>\n",
       "      <td>0</td>\n",
       "      <td>Train</td>\n",
       "    </tr>\n",
       "    <tr>\n",
       "      <th>26182</th>\n",
       "      <td>58288</td>\n",
       "      <td>Analytics</td>\n",
       "      <td>region_22</td>\n",
       "      <td>Master's &amp; above</td>\n",
       "      <td>m</td>\n",
       "      <td>other</td>\n",
       "      <td>1</td>\n",
       "      <td>45</td>\n",
       "      <td>3.0</td>\n",
       "      <td>7</td>\n",
       "      <td>0</td>\n",
       "      <td>0</td>\n",
       "      <td>89</td>\n",
       "      <td>0</td>\n",
       "      <td>Train</td>\n",
       "    </tr>\n",
       "    <tr>\n",
       "      <th>40963</th>\n",
       "      <td>74198</td>\n",
       "      <td>Sales &amp; Marketing</td>\n",
       "      <td>region_25</td>\n",
       "      <td>Bachelor's</td>\n",
       "      <td>m</td>\n",
       "      <td>other</td>\n",
       "      <td>1</td>\n",
       "      <td>31</td>\n",
       "      <td>4.0</td>\n",
       "      <td>6</td>\n",
       "      <td>0</td>\n",
       "      <td>0</td>\n",
       "      <td>58</td>\n",
       "      <td>1</td>\n",
       "      <td>Train</td>\n",
       "    </tr>\n",
       "    <tr>\n",
       "      <th>5436</th>\n",
       "      <td>63431</td>\n",
       "      <td>Analytics</td>\n",
       "      <td>region_22</td>\n",
       "      <td>Bachelor's</td>\n",
       "      <td>m</td>\n",
       "      <td>referred</td>\n",
       "      <td>1</td>\n",
       "      <td>28</td>\n",
       "      <td>3.0</td>\n",
       "      <td>1</td>\n",
       "      <td>0</td>\n",
       "      <td>0</td>\n",
       "      <td>87</td>\n",
       "      <td>0</td>\n",
       "      <td>Train</td>\n",
       "    </tr>\n",
       "    <tr>\n",
       "      <th>...</th>\n",
       "      <td>...</td>\n",
       "      <td>...</td>\n",
       "      <td>...</td>\n",
       "      <td>...</td>\n",
       "      <td>...</td>\n",
       "      <td>...</td>\n",
       "      <td>...</td>\n",
       "      <td>...</td>\n",
       "      <td>...</td>\n",
       "      <td>...</td>\n",
       "      <td>...</td>\n",
       "      <td>...</td>\n",
       "      <td>...</td>\n",
       "      <td>...</td>\n",
       "      <td>...</td>\n",
       "    </tr>\n",
       "    <tr>\n",
       "      <th>23485</th>\n",
       "      <td>53478</td>\n",
       "      <td>Legal</td>\n",
       "      <td>region_2</td>\n",
       "      <td>Below Secondary</td>\n",
       "      <td>m</td>\n",
       "      <td>sourcing</td>\n",
       "      <td>1</td>\n",
       "      <td>24</td>\n",
       "      <td>3.0</td>\n",
       "      <td>1</td>\n",
       "      <td>0</td>\n",
       "      <td>0</td>\n",
       "      <td>61</td>\n",
       "      <td>0</td>\n",
       "      <td>prediction</td>\n",
       "    </tr>\n",
       "    <tr>\n",
       "      <th>23486</th>\n",
       "      <td>25600</td>\n",
       "      <td>Technology</td>\n",
       "      <td>region_25</td>\n",
       "      <td>Bachelor's</td>\n",
       "      <td>m</td>\n",
       "      <td>sourcing</td>\n",
       "      <td>1</td>\n",
       "      <td>31</td>\n",
       "      <td>3.0</td>\n",
       "      <td>7</td>\n",
       "      <td>0</td>\n",
       "      <td>0</td>\n",
       "      <td>74</td>\n",
       "      <td>0</td>\n",
       "      <td>prediction</td>\n",
       "    </tr>\n",
       "    <tr>\n",
       "      <th>23487</th>\n",
       "      <td>45409</td>\n",
       "      <td>HR</td>\n",
       "      <td>region_16</td>\n",
       "      <td>Bachelor's</td>\n",
       "      <td>f</td>\n",
       "      <td>sourcing</td>\n",
       "      <td>1</td>\n",
       "      <td>26</td>\n",
       "      <td>4.0</td>\n",
       "      <td>4</td>\n",
       "      <td>0</td>\n",
       "      <td>0</td>\n",
       "      <td>50</td>\n",
       "      <td>0</td>\n",
       "      <td>prediction</td>\n",
       "    </tr>\n",
       "    <tr>\n",
       "      <th>23488</th>\n",
       "      <td>1186</td>\n",
       "      <td>Procurement</td>\n",
       "      <td>region_31</td>\n",
       "      <td>Bachelor's</td>\n",
       "      <td>m</td>\n",
       "      <td>sourcing</td>\n",
       "      <td>3</td>\n",
       "      <td>27</td>\n",
       "      <td>3.0</td>\n",
       "      <td>1</td>\n",
       "      <td>0</td>\n",
       "      <td>0</td>\n",
       "      <td>70</td>\n",
       "      <td>0</td>\n",
       "      <td>prediction</td>\n",
       "    </tr>\n",
       "    <tr>\n",
       "      <th>23489</th>\n",
       "      <td>5973</td>\n",
       "      <td>Technology</td>\n",
       "      <td>region_17</td>\n",
       "      <td>Master's &amp; above</td>\n",
       "      <td>m</td>\n",
       "      <td>other</td>\n",
       "      <td>3</td>\n",
       "      <td>40</td>\n",
       "      <td>5.0</td>\n",
       "      <td>5</td>\n",
       "      <td>1</td>\n",
       "      <td>0</td>\n",
       "      <td>89</td>\n",
       "      <td>0</td>\n",
       "      <td>prediction</td>\n",
       "    </tr>\n",
       "  </tbody>\n",
       "</table>\n",
       "<p>78298 rows × 15 columns</p>\n",
       "</div>"
      ],
      "text/plain": [
       "       employee_id         department     region         education gender  \\\n",
       "45986        52109         Technology  region_31        Bachelor's      f   \n",
       "5418          5043        Procurement   region_7  Master's & above      f   \n",
       "26182        58288          Analytics  region_22  Master's & above      m   \n",
       "40963        74198  Sales & Marketing  region_25        Bachelor's      m   \n",
       "5436         63431          Analytics  region_22        Bachelor's      m   \n",
       "...            ...                ...        ...               ...    ...   \n",
       "23485        53478              Legal   region_2   Below Secondary      m   \n",
       "23486        25600         Technology  region_25        Bachelor's      m   \n",
       "23487        45409                 HR  region_16        Bachelor's      f   \n",
       "23488         1186        Procurement  region_31        Bachelor's      m   \n",
       "23489         5973         Technology  region_17  Master's & above      m   \n",
       "\n",
       "      recruitment_channel  no_of_trainings  age  previous_year_rating  \\\n",
       "45986               other                1   27                   2.0   \n",
       "5418             sourcing                1   59                   3.0   \n",
       "26182               other                1   45                   3.0   \n",
       "40963               other                1   31                   4.0   \n",
       "5436             referred                1   28                   3.0   \n",
       "...                   ...              ...  ...                   ...   \n",
       "23485            sourcing                1   24                   3.0   \n",
       "23486            sourcing                1   31                   3.0   \n",
       "23487            sourcing                1   26                   4.0   \n",
       "23488            sourcing                3   27                   3.0   \n",
       "23489               other                3   40                   5.0   \n",
       "\n",
       "       length_of_service  KPIs_met >80%  awards_won?  avg_training_score  \\\n",
       "45986                  2              0            0                  79   \n",
       "5418                  18              0            0                  70   \n",
       "26182                  7              0            0                  89   \n",
       "40963                  6              0            0                  58   \n",
       "5436                   1              0            0                  87   \n",
       "...                  ...            ...          ...                 ...   \n",
       "23485                  1              0            0                  61   \n",
       "23486                  7              0            0                  74   \n",
       "23487                  4              0            0                  50   \n",
       "23488                  1              0            0                  70   \n",
       "23489                  5              1            0                  89   \n",
       "\n",
       "       is_promoted      Source  \n",
       "45986            0       Train  \n",
       "5418             0       Train  \n",
       "26182            0       Train  \n",
       "40963            1       Train  \n",
       "5436             0       Train  \n",
       "...            ...         ...  \n",
       "23485            0  prediction  \n",
       "23486            0  prediction  \n",
       "23487            0  prediction  \n",
       "23488            0  prediction  \n",
       "23489            0  prediction  \n",
       "\n",
       "[78298 rows x 15 columns]"
      ]
     },
     "execution_count": 139,
     "metadata": {},
     "output_type": "execute_result"
    }
   ],
   "source": [
    "fullraw"
   ]
  },
  {
   "cell_type": "code",
   "execution_count": 140,
   "id": "599316b6",
   "metadata": {
    "scrolled": true
   },
   "outputs": [
    {
     "data": {
      "text/html": [
       "<div>\n",
       "<style scoped>\n",
       "    .dataframe tbody tr th:only-of-type {\n",
       "        vertical-align: middle;\n",
       "    }\n",
       "\n",
       "    .dataframe tbody tr th {\n",
       "        vertical-align: top;\n",
       "    }\n",
       "\n",
       "    .dataframe thead th {\n",
       "        text-align: right;\n",
       "    }\n",
       "</style>\n",
       "<table border=\"1\" class=\"dataframe\">\n",
       "  <thead>\n",
       "    <tr style=\"text-align: right;\">\n",
       "      <th></th>\n",
       "      <th>employee_id</th>\n",
       "      <th>no_of_trainings</th>\n",
       "      <th>age</th>\n",
       "      <th>previous_year_rating</th>\n",
       "      <th>length_of_service</th>\n",
       "      <th>KPIs_met &gt;80%</th>\n",
       "      <th>awards_won?</th>\n",
       "      <th>avg_training_score</th>\n",
       "      <th>is_promoted</th>\n",
       "    </tr>\n",
       "  </thead>\n",
       "  <tbody>\n",
       "    <tr>\n",
       "      <th>count</th>\n",
       "      <td>78298.000000</td>\n",
       "      <td>78298.000000</td>\n",
       "      <td>78298.000000</td>\n",
       "      <td>78298.000000</td>\n",
       "      <td>78298.000000</td>\n",
       "      <td>78298.000000</td>\n",
       "      <td>78298.000000</td>\n",
       "      <td>78298.000000</td>\n",
       "      <td>78298.000000</td>\n",
       "    </tr>\n",
       "    <tr>\n",
       "      <th>mean</th>\n",
       "      <td>39149.500000</td>\n",
       "      <td>1.253378</td>\n",
       "      <td>34.797619</td>\n",
       "      <td>3.307032</td>\n",
       "      <td>5.848974</td>\n",
       "      <td>0.354032</td>\n",
       "      <td>0.023053</td>\n",
       "      <td>63.349664</td>\n",
       "      <td>0.059618</td>\n",
       "    </tr>\n",
       "    <tr>\n",
       "      <th>std</th>\n",
       "      <td>22602.830026</td>\n",
       "      <td>0.606766</td>\n",
       "      <td>7.665928</td>\n",
       "      <td>1.215425</td>\n",
       "      <td>4.248070</td>\n",
       "      <td>0.478222</td>\n",
       "      <td>0.150073</td>\n",
       "      <td>13.383664</td>\n",
       "      <td>0.236780</td>\n",
       "    </tr>\n",
       "    <tr>\n",
       "      <th>min</th>\n",
       "      <td>1.000000</td>\n",
       "      <td>1.000000</td>\n",
       "      <td>20.000000</td>\n",
       "      <td>1.000000</td>\n",
       "      <td>1.000000</td>\n",
       "      <td>0.000000</td>\n",
       "      <td>0.000000</td>\n",
       "      <td>39.000000</td>\n",
       "      <td>0.000000</td>\n",
       "    </tr>\n",
       "    <tr>\n",
       "      <th>25%</th>\n",
       "      <td>19575.250000</td>\n",
       "      <td>1.000000</td>\n",
       "      <td>29.000000</td>\n",
       "      <td>3.000000</td>\n",
       "      <td>3.000000</td>\n",
       "      <td>0.000000</td>\n",
       "      <td>0.000000</td>\n",
       "      <td>51.000000</td>\n",
       "      <td>0.000000</td>\n",
       "    </tr>\n",
       "    <tr>\n",
       "      <th>50%</th>\n",
       "      <td>39149.500000</td>\n",
       "      <td>1.000000</td>\n",
       "      <td>33.000000</td>\n",
       "      <td>3.000000</td>\n",
       "      <td>5.000000</td>\n",
       "      <td>0.000000</td>\n",
       "      <td>0.000000</td>\n",
       "      <td>60.000000</td>\n",
       "      <td>0.000000</td>\n",
       "    </tr>\n",
       "    <tr>\n",
       "      <th>75%</th>\n",
       "      <td>58723.750000</td>\n",
       "      <td>1.000000</td>\n",
       "      <td>39.000000</td>\n",
       "      <td>4.000000</td>\n",
       "      <td>7.000000</td>\n",
       "      <td>1.000000</td>\n",
       "      <td>0.000000</td>\n",
       "      <td>76.000000</td>\n",
       "      <td>0.000000</td>\n",
       "    </tr>\n",
       "    <tr>\n",
       "      <th>max</th>\n",
       "      <td>78298.000000</td>\n",
       "      <td>10.000000</td>\n",
       "      <td>60.000000</td>\n",
       "      <td>5.000000</td>\n",
       "      <td>37.000000</td>\n",
       "      <td>1.000000</td>\n",
       "      <td>1.000000</td>\n",
       "      <td>99.000000</td>\n",
       "      <td>1.000000</td>\n",
       "    </tr>\n",
       "  </tbody>\n",
       "</table>\n",
       "</div>"
      ],
      "text/plain": [
       "        employee_id  no_of_trainings           age  previous_year_rating  \\\n",
       "count  78298.000000     78298.000000  78298.000000          78298.000000   \n",
       "mean   39149.500000         1.253378     34.797619              3.307032   \n",
       "std    22602.830026         0.606766      7.665928              1.215425   \n",
       "min        1.000000         1.000000     20.000000              1.000000   \n",
       "25%    19575.250000         1.000000     29.000000              3.000000   \n",
       "50%    39149.500000         1.000000     33.000000              3.000000   \n",
       "75%    58723.750000         1.000000     39.000000              4.000000   \n",
       "max    78298.000000        10.000000     60.000000              5.000000   \n",
       "\n",
       "       length_of_service  KPIs_met >80%   awards_won?  avg_training_score  \\\n",
       "count       78298.000000   78298.000000  78298.000000        78298.000000   \n",
       "mean            5.848974       0.354032      0.023053           63.349664   \n",
       "std             4.248070       0.478222      0.150073           13.383664   \n",
       "min             1.000000       0.000000      0.000000           39.000000   \n",
       "25%             3.000000       0.000000      0.000000           51.000000   \n",
       "50%             5.000000       0.000000      0.000000           60.000000   \n",
       "75%             7.000000       1.000000      0.000000           76.000000   \n",
       "max            37.000000       1.000000      1.000000           99.000000   \n",
       "\n",
       "        is_promoted  \n",
       "count  78298.000000  \n",
       "mean       0.059618  \n",
       "std        0.236780  \n",
       "min        0.000000  \n",
       "25%        0.000000  \n",
       "50%        0.000000  \n",
       "75%        0.000000  \n",
       "max        1.000000  "
      ]
     },
     "execution_count": 140,
     "metadata": {},
     "output_type": "execute_result"
    }
   ],
   "source": [
    "#summary of fullraw\n",
    "fullraw_summary=fullraw.describe()\n",
    "fullraw_summary"
   ]
  },
  {
   "cell_type": "code",
   "execution_count": 141,
   "id": "072e0cff",
   "metadata": {},
   "outputs": [],
   "source": [
    "#removing employee id from table\n",
    "fullraw.drop(['employee_id'],axis=1,inplace=True)\n"
   ]
  },
  {
   "cell_type": "code",
   "execution_count": 142,
   "id": "3068586d",
   "metadata": {},
   "outputs": [
    {
     "data": {
      "text/plain": [
       "Index(['department', 'region', 'education', 'gender', 'recruitment_channel',\n",
       "       'no_of_trainings', 'age', 'previous_year_rating', 'length_of_service',\n",
       "       'KPIs_met >80%', 'awards_won?', 'avg_training_score', 'is_promoted',\n",
       "       'Source'],\n",
       "      dtype='object')"
      ]
     },
     "execution_count": 142,
     "metadata": {},
     "output_type": "execute_result"
    }
   ],
   "source": [
    "fullraw.columns"
   ]
  },
  {
   "cell_type": "markdown",
   "id": "c04b881b",
   "metadata": {},
   "source": [
    "#### Manual recording of \"Dependent Variables\""
   ]
  },
  {
   "cell_type": "code",
   "execution_count": 143,
   "id": "78aa85d0",
   "metadata": {},
   "outputs": [
    {
     "data": {
      "text/plain": [
       "0    0.914662\n",
       "1    0.085338\n",
       "Name: is_promoted, dtype: float64"
      ]
     },
     "execution_count": 143,
     "metadata": {},
     "output_type": "execute_result"
    }
   ],
   "source": [
    "# class ratio\n",
    "fullraw.loc[fullraw['Source']=='Train','is_promoted'].value_counts()/fullraw[fullraw['Source']=='Train'].shape[0]"
   ]
  },
  {
   "cell_type": "markdown",
   "id": "1ae4f13d",
   "metadata": {},
   "source": [
    "##### 91.47% are not promoted and 8.53 are promoted\n"
   ]
  },
  {
   "cell_type": "markdown",
   "id": "b10434e2",
   "metadata": {},
   "source": [
    "#### outlier detection and correction"
   ]
  },
  {
   "cell_type": "code",
   "execution_count": 144,
   "id": "d9adb353",
   "metadata": {},
   "outputs": [
    {
     "name": "stdout",
     "output_type": "stream",
     "text": [
      "age\n",
      "length_of_service\n",
      "avg_training_score\n"
     ]
    }
   ],
   "source": [
    "fullraw.columns \n",
    "columnsForOutlierDetection=['age','length_of_service','avg_training_score']\n",
    "\n",
    "\n",
    "summary_before_outlier_correction= fullraw.describe()\n",
    "for column in columnsForOutlierDetection:\n",
    "\n",
    "    print(column)\n",
    "    \n",
    "    Q1 = np.percentile(fullraw.loc[fullraw['Source']=='Train',column],25)\n",
    "    Q3=np.percentile(fullraw.loc[fullraw['Source']=='Train',column],75)\n",
    "    IQR=Q3-Q1\n",
    "    UB = Q3+ 1.5 * IQR\n",
    "    LB = Q1 - 1.5 * IQR\n",
    "    \n",
    "    #upper bound operation\n",
    "    fullraw[column]=np.where(fullraw[column]>UB,UB,fullraw[column])\n",
    "    \n",
    "    #Lower bound operation\n",
    "    fullraw[column]=np.where(fullraw[column]>LB,LB,fullraw[column])\n",
    "    \n",
    "summary_after_outlier_correction =fullraw.describe()\n"
   ]
  },
  {
   "cell_type": "markdown",
   "id": "88432b69",
   "metadata": {},
   "source": [
    "### Dummy Variable creation\n"
   ]
  },
  {
   "cell_type": "code",
   "execution_count": 145,
   "id": "46bc5f95",
   "metadata": {},
   "outputs": [],
   "source": [
    "fullraw2= pd.get_dummies(fullraw,drop_first = False)"
   ]
  },
  {
   "cell_type": "code",
   "execution_count": 146,
   "id": "a340db88",
   "metadata": {},
   "outputs": [
    {
     "data": {
      "text/plain": [
       "(78298, 62)"
      ]
     },
     "execution_count": 146,
     "metadata": {},
     "output_type": "execute_result"
    }
   ],
   "source": [
    "fullraw2.shape"
   ]
  },
  {
   "cell_type": "markdown",
   "id": "cc9eadcf",
   "metadata": {},
   "source": [
    "### Divide the Data into Train and Test"
   ]
  },
  {
   "cell_type": "code",
   "execution_count": 147,
   "id": "cb16e48d",
   "metadata": {},
   "outputs": [],
   "source": [
    "#divide the data into train and test based on source column and make sure you drop the source coumn\n",
    "\n",
    "#step1: divide into train and test set\n",
    "Train = fullraw2[fullraw2['Source_Train'] ==1].drop(['Source_Train','Source_Test'],axis=1).copy()\n",
    "Test = fullraw2[fullraw2['Source_Test']==1].drop(['Source_Train','Source_Test'],axis=1).copy()\n",
    "Pred = fullraw2[(fullraw2['Source_Train']==0) & (fullraw2['Source_Test']==0)].drop(['Source_Train','Source_Test'],axis=1)"
   ]
  },
  {
   "cell_type": "markdown",
   "id": "a9b25137",
   "metadata": {},
   "source": [
    "### Sampling into X and Y"
   ]
  },
  {
   "cell_type": "code",
   "execution_count": 148,
   "id": "e52fa7ac",
   "metadata": {},
   "outputs": [],
   "source": [
    "#Divide each dataset into independent and dependent variable\n",
    "depVar = 'is_promoted'\n",
    "trainX=Train.drop(depVar,axis=1).copy()\n",
    "trainY=Train[depVar].copy()\n",
    "testX=Test.drop(depVar,axis=1).copy()\n",
    "testY= Test[depVar].copy()\n",
    "predX=Pred.drop(depVar,axis=1).copy()"
   ]
  },
  {
   "cell_type": "code",
   "execution_count": 149,
   "id": "f56d9abe",
   "metadata": {},
   "outputs": [
    {
     "data": {
      "text/plain": [
       "(38365,)"
      ]
     },
     "execution_count": 149,
     "metadata": {},
     "output_type": "execute_result"
    }
   ],
   "source": [
    "trainX.shape\n",
    "trainY.shape"
   ]
  },
  {
   "cell_type": "code",
   "execution_count": 150,
   "id": "acbc92c6",
   "metadata": {},
   "outputs": [
    {
     "data": {
      "text/plain": [
       "(16443, 59)"
      ]
     },
     "execution_count": 150,
     "metadata": {},
     "output_type": "execute_result"
    }
   ],
   "source": [
    "testX.shape"
   ]
  },
  {
   "cell_type": "code",
   "execution_count": 151,
   "id": "5b1ec316",
   "metadata": {},
   "outputs": [
    {
     "data": {
      "text/plain": [
       "(23490, 59)"
      ]
     },
     "execution_count": 151,
     "metadata": {},
     "output_type": "execute_result"
    }
   ],
   "source": [
    "predX.shape"
   ]
  },
  {
   "cell_type": "markdown",
   "id": "592a9613",
   "metadata": {},
   "source": [
    "### DECISION TREE MODEL"
   ]
  },
  {
   "cell_type": "code",
   "execution_count": 152,
   "id": "d92ca457",
   "metadata": {},
   "outputs": [],
   "source": [
    "from sklearn.tree import DecisionTreeClassifier,plot_tree\n",
    "from matplotlib.pyplot import figure, savefig, close"
   ]
  },
  {
   "cell_type": "code",
   "execution_count": 153,
   "id": "9539f429",
   "metadata": {},
   "outputs": [],
   "source": [
    "M1=DecisionTreeClassifier(random_state = 97).fit(trainX,trainY) \n",
    "#indep , dep"
   ]
  },
  {
   "cell_type": "markdown",
   "id": "b8c8be27",
   "metadata": {},
   "source": [
    "### Model Visulization"
   ]
  },
  {
   "cell_type": "code",
   "execution_count": 154,
   "id": "e0ca6ba3",
   "metadata": {},
   "outputs": [
    {
     "data": {
      "text/plain": [
       "<Figure size 1440x720 with 0 Axes>"
      ]
     },
     "execution_count": 154,
     "metadata": {},
     "output_type": "execute_result"
    },
    {
     "data": {
      "text/plain": [
       "<Figure size 1440x720 with 0 Axes>"
      ]
     },
     "metadata": {},
     "output_type": "display_data"
    }
   ],
   "source": [
    "#Visualization of DT\n",
    "figure(figsize = [20,10])"
   ]
  },
  {
   "cell_type": "code",
   "execution_count": 155,
   "id": "6ba6013a",
   "metadata": {},
   "outputs": [
    {
     "data": {
      "image/png": "[encoded data removed]",
      "text/plain": [
       "<Figure size 432x288 with 1 Axes>"
      ]
     },
     "metadata": {
      "needs_background": "light"
     },
     "output_type": "display_data"
    }
   ],
   "source": [
    "DT_Plot1= plot_tree(M1,fontsize =10,feature_names = trainX.columns,\n",
    "                   filled = True,class_names=[\"0\",\"1\"])\n",
    "# filled= True allows the method to use colors to use toindicate the majority of the class\n",
    "#class_names =[\"0\",\"1\"] allows the method to provide the dependent variable \"MAJORITY\"\n",
    "#class name for each of colored boxes"
   ]
  },
  {
   "cell_type": "markdown",
   "id": "51ce185c",
   "metadata": {},
   "source": [
    "### Prediction and Validation on Test set"
   ]
  },
  {
   "cell_type": "code",
   "execution_count": 156,
   "id": "1a87d35d",
   "metadata": {},
   "outputs": [],
   "source": [
    "from sklearn.metrics import classification_report\n",
    "# prediction on test set\n",
    "Test_Pred = M1.predict(testX)"
   ]
  },
  {
   "cell_type": "code",
   "execution_count": 157,
   "id": "d3533b7f",
   "metadata": {},
   "outputs": [
    {
     "data": {
      "text/html": [
       "<div>\n",
       "<style scoped>\n",
       "    .dataframe tbody tr th:only-of-type {\n",
       "        vertical-align: middle;\n",
       "    }\n",
       "\n",
       "    .dataframe tbody tr th {\n",
       "        vertical-align: top;\n",
       "    }\n",
       "\n",
       "    .dataframe thead th {\n",
       "        text-align: right;\n",
       "    }\n",
       "</style>\n",
       "<table border=\"1\" class=\"dataframe\">\n",
       "  <thead>\n",
       "    <tr style=\"text-align: right;\">\n",
       "      <th>col_0</th>\n",
       "      <th>0</th>\n",
       "      <th>1</th>\n",
       "    </tr>\n",
       "    <tr>\n",
       "      <th>is_promoted</th>\n",
       "      <th></th>\n",
       "      <th></th>\n",
       "    </tr>\n",
       "  </thead>\n",
       "  <tbody>\n",
       "    <tr>\n",
       "      <th>0</th>\n",
       "      <td>14632</td>\n",
       "      <td>417</td>\n",
       "    </tr>\n",
       "    <tr>\n",
       "      <th>1</th>\n",
       "      <td>1218</td>\n",
       "      <td>176</td>\n",
       "    </tr>\n",
       "  </tbody>\n",
       "</table>\n",
       "</div>"
      ],
      "text/plain": [
       "col_0            0    1\n",
       "is_promoted            \n",
       "0            14632  417\n",
       "1             1218  176"
      ]
     },
     "execution_count": 157,
     "metadata": {},
     "output_type": "execute_result"
    }
   ],
   "source": [
    "#classification Model Validation\n",
    "confusion_Mat = pd.crosstab(testY,Test_Pred) #r,c\n",
    "confusion_Mat"
   ]
  },
  {
   "cell_type": "code",
   "execution_count": 158,
   "id": "2358b5d5",
   "metadata": {},
   "outputs": [
    {
     "name": "stdout",
     "output_type": "stream",
     "text": [
      "              precision    recall  f1-score   support\n",
      "\n",
      "           0       0.92      0.97      0.95     15049\n",
      "           1       0.30      0.13      0.18      1394\n",
      "\n",
      "    accuracy                           0.90     16443\n",
      "   macro avg       0.61      0.55      0.56     16443\n",
      "weighted avg       0.87      0.90      0.88     16443\n",
      "\n"
     ]
    }
   ],
   "source": [
    "# validation on test set\n",
    "print(classification_report(testY,Test_Pred)) # acutal,pred"
   ]
  },
  {
   "cell_type": "markdown",
   "id": "75257f95",
   "metadata": {},
   "source": [
    "### DT model 2\n"
   ]
  },
  {
   "cell_type": "code",
   "execution_count": 159,
   "id": "ce1e68a9",
   "metadata": {},
   "outputs": [],
   "source": [
    "# Build Model\n",
    "M2= DecisionTreeClassifier(random_state=97,min_samples_leaf = 500).fit(trainX,trainY)"
   ]
  },
  {
   "cell_type": "code",
   "execution_count": 160,
   "id": "bb95bc60",
   "metadata": {},
   "outputs": [],
   "source": [
    "# Visualization of DT\n",
    "figure(figsize = [20,10])\n",
    "DT_Plot2 = plot_tree(M2,fontsize =10,feature_names = trainX.columns,\n",
    "                     filled = True,class_names=['0','1'])\n",
    "# to save the current plot on file through code \n",
    "savefig('D:\\\\D_S\\\\HR_Analytics_project')\n",
    "close()"
   ]
  },
  {
   "cell_type": "code",
   "execution_count": 161,
   "id": "b71556e6",
   "metadata": {},
   "outputs": [],
   "source": [
    "#predicition on testset\n",
    "Test_Pred = M2.predict(testX)"
   ]
  },
  {
   "cell_type": "code",
   "execution_count": 162,
   "id": "75207750",
   "metadata": {},
   "outputs": [
    {
     "data": {
      "text/html": [
       "<div>\n",
       "<style scoped>\n",
       "    .dataframe tbody tr th:only-of-type {\n",
       "        vertical-align: middle;\n",
       "    }\n",
       "\n",
       "    .dataframe tbody tr th {\n",
       "        vertical-align: top;\n",
       "    }\n",
       "\n",
       "    .dataframe thead th {\n",
       "        text-align: right;\n",
       "    }\n",
       "</style>\n",
       "<table border=\"1\" class=\"dataframe\">\n",
       "  <thead>\n",
       "    <tr style=\"text-align: right;\">\n",
       "      <th>col_0</th>\n",
       "      <th>0</th>\n",
       "    </tr>\n",
       "    <tr>\n",
       "      <th>is_promoted</th>\n",
       "      <th></th>\n",
       "    </tr>\n",
       "  </thead>\n",
       "  <tbody>\n",
       "    <tr>\n",
       "      <th>0</th>\n",
       "      <td>15049</td>\n",
       "    </tr>\n",
       "    <tr>\n",
       "      <th>1</th>\n",
       "      <td>1394</td>\n",
       "    </tr>\n",
       "  </tbody>\n",
       "</table>\n",
       "</div>"
      ],
      "text/plain": [
       "col_0            0\n",
       "is_promoted       \n",
       "0            15049\n",
       "1             1394"
      ]
     },
     "execution_count": 162,
     "metadata": {},
     "output_type": "execute_result"
    }
   ],
   "source": [
    "#classification on testset\n",
    "confusion_Mat = pd.crosstab(testY,Test_Pred)\n",
    "confusion_Mat # R,C format\n"
   ]
  },
  {
   "cell_type": "code",
   "execution_count": 163,
   "id": "a89c91e7",
   "metadata": {},
   "outputs": [
    {
     "name": "stdout",
     "output_type": "stream",
     "text": [
      "              precision    recall  f1-score   support\n",
      "\n",
      "           0       0.92      1.00      0.96     15049\n",
      "           1       0.00      0.00      0.00      1394\n",
      "\n",
      "    accuracy                           0.92     16443\n",
      "   macro avg       0.46      0.50      0.48     16443\n",
      "weighted avg       0.84      0.92      0.87     16443\n",
      "\n"
     ]
    },
    {
     "name": "stderr",
     "output_type": "stream",
     "text": [
      "C:\\Users\\hp\\anaconda3\\lib\\site-packages\\sklearn\\metrics\\_classification.py:1318: UndefinedMetricWarning: Precision and F-score are ill-defined and being set to 0.0 in labels with no predicted samples. Use `zero_division` parameter to control this behavior.\n",
      "  _warn_prf(average, modifier, msg_start, len(result))\n",
      "C:\\Users\\hp\\anaconda3\\lib\\site-packages\\sklearn\\metrics\\_classification.py:1318: UndefinedMetricWarning: Precision and F-score are ill-defined and being set to 0.0 in labels with no predicted samples. Use `zero_division` parameter to control this behavior.\n",
      "  _warn_prf(average, modifier, msg_start, len(result))\n",
      "C:\\Users\\hp\\anaconda3\\lib\\site-packages\\sklearn\\metrics\\_classification.py:1318: UndefinedMetricWarning: Precision and F-score are ill-defined and being set to 0.0 in labels with no predicted samples. Use `zero_division` parameter to control this behavior.\n",
      "  _warn_prf(average, modifier, msg_start, len(result))\n"
     ]
    }
   ],
   "source": [
    "#Validation on Testset\n",
    "print(classification_report(testY,Test_Pred)) # actual, predicted"
   ]
  },
  {
   "cell_type": "markdown",
   "id": "ca36a4a5",
   "metadata": {},
   "source": [
    "## Random Forest"
   ]
  },
  {
   "cell_type": "code",
   "execution_count": 164,
   "id": "f1fa33cd",
   "metadata": {},
   "outputs": [],
   "source": [
    "from sklearn.ensemble import RandomForestClassifier\n",
    "M1_RF=RandomForestClassifier(random_state= 97).fit(trainX,trainY)\n"
   ]
  },
  {
   "cell_type": "code",
   "execution_count": 165,
   "id": "f077bd37",
   "metadata": {},
   "outputs": [],
   "source": [
    "#prediction on testset\n",
    "Test_Pred = M1_RF.predict(testX)"
   ]
  },
  {
   "cell_type": "code",
   "execution_count": 166,
   "id": "c310167e",
   "metadata": {},
   "outputs": [
    {
     "data": {
      "text/html": [
       "<div>\n",
       "<style scoped>\n",
       "    .dataframe tbody tr th:only-of-type {\n",
       "        vertical-align: middle;\n",
       "    }\n",
       "\n",
       "    .dataframe tbody tr th {\n",
       "        vertical-align: top;\n",
       "    }\n",
       "\n",
       "    .dataframe thead th {\n",
       "        text-align: right;\n",
       "    }\n",
       "</style>\n",
       "<table border=\"1\" class=\"dataframe\">\n",
       "  <thead>\n",
       "    <tr style=\"text-align: right;\">\n",
       "      <th>col_0</th>\n",
       "      <th>0</th>\n",
       "      <th>1</th>\n",
       "    </tr>\n",
       "    <tr>\n",
       "      <th>is_promoted</th>\n",
       "      <th></th>\n",
       "      <th></th>\n",
       "    </tr>\n",
       "  </thead>\n",
       "  <tbody>\n",
       "    <tr>\n",
       "      <th>0</th>\n",
       "      <td>14723</td>\n",
       "      <td>326</td>\n",
       "    </tr>\n",
       "    <tr>\n",
       "      <th>1</th>\n",
       "      <td>1247</td>\n",
       "      <td>147</td>\n",
       "    </tr>\n",
       "  </tbody>\n",
       "</table>\n",
       "</div>"
      ],
      "text/plain": [
       "col_0            0    1\n",
       "is_promoted            \n",
       "0            14723  326\n",
       "1             1247  147"
      ]
     },
     "execution_count": 166,
     "metadata": {},
     "output_type": "execute_result"
    }
   ],
   "source": [
    "#confusion matrix\n",
    "confusion_Mat = pd.crosstab(testY,Test_Pred) # R,C format\n",
    "confusion_Mat"
   ]
  },
  {
   "cell_type": "code",
   "execution_count": 167,
   "id": "2c6c2e80",
   "metadata": {},
   "outputs": [
    {
     "name": "stdout",
     "output_type": "stream",
     "text": [
      "              precision    recall  f1-score   support\n",
      "\n",
      "           0       0.92      0.98      0.95     15049\n",
      "           1       0.31      0.11      0.16      1394\n",
      "\n",
      "    accuracy                           0.90     16443\n",
      "   macro avg       0.62      0.54      0.55     16443\n",
      "weighted avg       0.87      0.90      0.88     16443\n",
      "\n"
     ]
    }
   ],
   "source": [
    "#validation on testset\n",
    "print(classification_report(testY,Test_Pred)) # actual,predicted\n"
   ]
  },
  {
   "cell_type": "code",
   "execution_count": 168,
   "id": "50152dc0",
   "metadata": {},
   "outputs": [
    {
     "data": {
      "text/plain": [
       "array([8.87422013e-02, 0.00000000e+00, 1.89274729e-01, 0.00000000e+00,\n",
       "       1.08676558e-01, 8.03165192e-02, 0.00000000e+00, 1.44210177e-02,\n",
       "       1.24643360e-02, 8.71922642e-03, 5.60007167e-03, 1.91435091e-02,\n",
       "       1.81512788e-02, 6.28247642e-03, 1.68437219e-02, 1.70813306e-02,\n",
       "       5.22454939e-03, 5.28658631e-03, 7.53610632e-03, 4.26690564e-03,\n",
       "       1.28890087e-02, 6.26346523e-03, 1.33579823e-02, 8.41865157e-03,\n",
       "       8.38357809e-03, 2.84826612e-06, 5.24654381e-03, 2.04117615e-02,\n",
       "       6.13029243e-03, 3.30933737e-03, 1.47341995e-02, 1.02615123e-02,\n",
       "       3.35668279e-03, 7.21132613e-03, 1.08665910e-02, 1.08635057e-02,\n",
       "       8.91049635e-03, 5.39167136e-03, 5.20701826e-03, 6.66253287e-03,\n",
       "       9.83002426e-03, 3.44007057e-03, 2.58332516e-03, 1.68796660e-03,\n",
       "       9.85021148e-03, 5.11628645e-03, 4.19664372e-03, 1.58670643e-02,\n",
       "       6.48977426e-03, 2.10375052e-03, 1.77185970e-02, 4.45168262e-03,\n",
       "       1.76966625e-02, 2.33775109e-02, 2.38441657e-02, 3.37290242e-02,\n",
       "       8.61760105e-03, 3.34895096e-02, 0.00000000e+00])"
      ]
     },
     "execution_count": 168,
     "metadata": {},
     "output_type": "execute_result"
    }
   ],
   "source": [
    "#variable importance\n",
    "M1_RF.feature_importances_"
   ]
  },
  {
   "cell_type": "code",
   "execution_count": 169,
   "id": "debcff78",
   "metadata": {},
   "outputs": [],
   "source": [
    "Var_Importance_Df = pd.concat([pd.DataFrame(M1_RF.feature_importances_),\n",
    "                             pd.DataFrame(trainX.columns)],axis =1)"
   ]
  },
  {
   "cell_type": "code",
   "execution_count": 170,
   "id": "987e9ef8",
   "metadata": {},
   "outputs": [
    {
     "data": {
      "text/html": [
       "<div>\n",
       "<style scoped>\n",
       "    .dataframe tbody tr th:only-of-type {\n",
       "        vertical-align: middle;\n",
       "    }\n",
       "\n",
       "    .dataframe tbody tr th {\n",
       "        vertical-align: top;\n",
       "    }\n",
       "\n",
       "    .dataframe thead th {\n",
       "        text-align: right;\n",
       "    }\n",
       "</style>\n",
       "<table border=\"1\" class=\"dataframe\">\n",
       "  <thead>\n",
       "    <tr style=\"text-align: right;\">\n",
       "      <th></th>\n",
       "      <th>0</th>\n",
       "      <th>0</th>\n",
       "    </tr>\n",
       "  </thead>\n",
       "  <tbody>\n",
       "    <tr>\n",
       "      <th>0</th>\n",
       "      <td>0.088742</td>\n",
       "      <td>no_of_trainings</td>\n",
       "    </tr>\n",
       "    <tr>\n",
       "      <th>1</th>\n",
       "      <td>0.000000</td>\n",
       "      <td>age</td>\n",
       "    </tr>\n",
       "    <tr>\n",
       "      <th>2</th>\n",
       "      <td>0.189275</td>\n",
       "      <td>previous_year_rating</td>\n",
       "    </tr>\n",
       "    <tr>\n",
       "      <th>3</th>\n",
       "      <td>0.000000</td>\n",
       "      <td>length_of_service</td>\n",
       "    </tr>\n",
       "    <tr>\n",
       "      <th>4</th>\n",
       "      <td>0.108677</td>\n",
       "      <td>KPIs_met &gt;80%</td>\n",
       "    </tr>\n",
       "    <tr>\n",
       "      <th>5</th>\n",
       "      <td>0.080317</td>\n",
       "      <td>awards_won?</td>\n",
       "    </tr>\n",
       "    <tr>\n",
       "      <th>6</th>\n",
       "      <td>0.000000</td>\n",
       "      <td>avg_training_score</td>\n",
       "    </tr>\n",
       "    <tr>\n",
       "      <th>7</th>\n",
       "      <td>0.014421</td>\n",
       "      <td>department_Analytics</td>\n",
       "    </tr>\n",
       "    <tr>\n",
       "      <th>8</th>\n",
       "      <td>0.012464</td>\n",
       "      <td>department_Finance</td>\n",
       "    </tr>\n",
       "    <tr>\n",
       "      <th>9</th>\n",
       "      <td>0.008719</td>\n",
       "      <td>department_HR</td>\n",
       "    </tr>\n",
       "    <tr>\n",
       "      <th>10</th>\n",
       "      <td>0.005600</td>\n",
       "      <td>department_Legal</td>\n",
       "    </tr>\n",
       "    <tr>\n",
       "      <th>11</th>\n",
       "      <td>0.019144</td>\n",
       "      <td>department_Operations</td>\n",
       "    </tr>\n",
       "    <tr>\n",
       "      <th>12</th>\n",
       "      <td>0.018151</td>\n",
       "      <td>department_Procurement</td>\n",
       "    </tr>\n",
       "    <tr>\n",
       "      <th>13</th>\n",
       "      <td>0.006282</td>\n",
       "      <td>department_R&amp;D</td>\n",
       "    </tr>\n",
       "    <tr>\n",
       "      <th>14</th>\n",
       "      <td>0.016844</td>\n",
       "      <td>department_Sales &amp; Marketing</td>\n",
       "    </tr>\n",
       "    <tr>\n",
       "      <th>15</th>\n",
       "      <td>0.017081</td>\n",
       "      <td>department_Technology</td>\n",
       "    </tr>\n",
       "    <tr>\n",
       "      <th>16</th>\n",
       "      <td>0.005225</td>\n",
       "      <td>region_region_1</td>\n",
       "    </tr>\n",
       "    <tr>\n",
       "      <th>17</th>\n",
       "      <td>0.005287</td>\n",
       "      <td>region_region_10</td>\n",
       "    </tr>\n",
       "    <tr>\n",
       "      <th>18</th>\n",
       "      <td>0.007536</td>\n",
       "      <td>region_region_11</td>\n",
       "    </tr>\n",
       "    <tr>\n",
       "      <th>19</th>\n",
       "      <td>0.004267</td>\n",
       "      <td>region_region_12</td>\n",
       "    </tr>\n",
       "    <tr>\n",
       "      <th>20</th>\n",
       "      <td>0.012889</td>\n",
       "      <td>region_region_13</td>\n",
       "    </tr>\n",
       "    <tr>\n",
       "      <th>21</th>\n",
       "      <td>0.006263</td>\n",
       "      <td>region_region_14</td>\n",
       "    </tr>\n",
       "    <tr>\n",
       "      <th>22</th>\n",
       "      <td>0.013358</td>\n",
       "      <td>region_region_15</td>\n",
       "    </tr>\n",
       "    <tr>\n",
       "      <th>23</th>\n",
       "      <td>0.008419</td>\n",
       "      <td>region_region_16</td>\n",
       "    </tr>\n",
       "    <tr>\n",
       "      <th>24</th>\n",
       "      <td>0.008384</td>\n",
       "      <td>region_region_17</td>\n",
       "    </tr>\n",
       "    <tr>\n",
       "      <th>25</th>\n",
       "      <td>0.000003</td>\n",
       "      <td>region_region_18</td>\n",
       "    </tr>\n",
       "    <tr>\n",
       "      <th>26</th>\n",
       "      <td>0.005247</td>\n",
       "      <td>region_region_19</td>\n",
       "    </tr>\n",
       "    <tr>\n",
       "      <th>27</th>\n",
       "      <td>0.020412</td>\n",
       "      <td>region_region_2</td>\n",
       "    </tr>\n",
       "    <tr>\n",
       "      <th>28</th>\n",
       "      <td>0.006130</td>\n",
       "      <td>region_region_20</td>\n",
       "    </tr>\n",
       "    <tr>\n",
       "      <th>29</th>\n",
       "      <td>0.003309</td>\n",
       "      <td>region_region_21</td>\n",
       "    </tr>\n",
       "    <tr>\n",
       "      <th>30</th>\n",
       "      <td>0.014734</td>\n",
       "      <td>region_region_22</td>\n",
       "    </tr>\n",
       "    <tr>\n",
       "      <th>31</th>\n",
       "      <td>0.010262</td>\n",
       "      <td>region_region_23</td>\n",
       "    </tr>\n",
       "    <tr>\n",
       "      <th>32</th>\n",
       "      <td>0.003357</td>\n",
       "      <td>region_region_24</td>\n",
       "    </tr>\n",
       "    <tr>\n",
       "      <th>33</th>\n",
       "      <td>0.007211</td>\n",
       "      <td>region_region_25</td>\n",
       "    </tr>\n",
       "    <tr>\n",
       "      <th>34</th>\n",
       "      <td>0.010867</td>\n",
       "      <td>region_region_26</td>\n",
       "    </tr>\n",
       "    <tr>\n",
       "      <th>35</th>\n",
       "      <td>0.010864</td>\n",
       "      <td>region_region_27</td>\n",
       "    </tr>\n",
       "    <tr>\n",
       "      <th>36</th>\n",
       "      <td>0.008910</td>\n",
       "      <td>region_region_28</td>\n",
       "    </tr>\n",
       "    <tr>\n",
       "      <th>37</th>\n",
       "      <td>0.005392</td>\n",
       "      <td>region_region_29</td>\n",
       "    </tr>\n",
       "    <tr>\n",
       "      <th>38</th>\n",
       "      <td>0.005207</td>\n",
       "      <td>region_region_3</td>\n",
       "    </tr>\n",
       "    <tr>\n",
       "      <th>39</th>\n",
       "      <td>0.006663</td>\n",
       "      <td>region_region_30</td>\n",
       "    </tr>\n",
       "    <tr>\n",
       "      <th>40</th>\n",
       "      <td>0.009830</td>\n",
       "      <td>region_region_31</td>\n",
       "    </tr>\n",
       "    <tr>\n",
       "      <th>41</th>\n",
       "      <td>0.003440</td>\n",
       "      <td>region_region_32</td>\n",
       "    </tr>\n",
       "    <tr>\n",
       "      <th>42</th>\n",
       "      <td>0.002583</td>\n",
       "      <td>region_region_33</td>\n",
       "    </tr>\n",
       "    <tr>\n",
       "      <th>43</th>\n",
       "      <td>0.001688</td>\n",
       "      <td>region_region_34</td>\n",
       "    </tr>\n",
       "    <tr>\n",
       "      <th>44</th>\n",
       "      <td>0.009850</td>\n",
       "      <td>region_region_4</td>\n",
       "    </tr>\n",
       "    <tr>\n",
       "      <th>45</th>\n",
       "      <td>0.005116</td>\n",
       "      <td>region_region_5</td>\n",
       "    </tr>\n",
       "    <tr>\n",
       "      <th>46</th>\n",
       "      <td>0.004197</td>\n",
       "      <td>region_region_6</td>\n",
       "    </tr>\n",
       "    <tr>\n",
       "      <th>47</th>\n",
       "      <td>0.015867</td>\n",
       "      <td>region_region_7</td>\n",
       "    </tr>\n",
       "    <tr>\n",
       "      <th>48</th>\n",
       "      <td>0.006490</td>\n",
       "      <td>region_region_8</td>\n",
       "    </tr>\n",
       "    <tr>\n",
       "      <th>49</th>\n",
       "      <td>0.002104</td>\n",
       "      <td>region_region_9</td>\n",
       "    </tr>\n",
       "    <tr>\n",
       "      <th>50</th>\n",
       "      <td>0.017719</td>\n",
       "      <td>education_Bachelor's</td>\n",
       "    </tr>\n",
       "    <tr>\n",
       "      <th>51</th>\n",
       "      <td>0.004452</td>\n",
       "      <td>education_Below Secondary</td>\n",
       "    </tr>\n",
       "    <tr>\n",
       "      <th>52</th>\n",
       "      <td>0.017697</td>\n",
       "      <td>education_Master's &amp; above</td>\n",
       "    </tr>\n",
       "    <tr>\n",
       "      <th>53</th>\n",
       "      <td>0.023378</td>\n",
       "      <td>gender_f</td>\n",
       "    </tr>\n",
       "    <tr>\n",
       "      <th>54</th>\n",
       "      <td>0.023844</td>\n",
       "      <td>gender_m</td>\n",
       "    </tr>\n",
       "    <tr>\n",
       "      <th>55</th>\n",
       "      <td>0.033729</td>\n",
       "      <td>recruitment_channel_other</td>\n",
       "    </tr>\n",
       "    <tr>\n",
       "      <th>56</th>\n",
       "      <td>0.008618</td>\n",
       "      <td>recruitment_channel_referred</td>\n",
       "    </tr>\n",
       "    <tr>\n",
       "      <th>57</th>\n",
       "      <td>0.033490</td>\n",
       "      <td>recruitment_channel_sourcing</td>\n",
       "    </tr>\n",
       "    <tr>\n",
       "      <th>58</th>\n",
       "      <td>0.000000</td>\n",
       "      <td>Source_prediction</td>\n",
       "    </tr>\n",
       "  </tbody>\n",
       "</table>\n",
       "</div>"
      ],
      "text/plain": [
       "           0                             0\n",
       "0   0.088742               no_of_trainings\n",
       "1   0.000000                           age\n",
       "2   0.189275          previous_year_rating\n",
       "3   0.000000             length_of_service\n",
       "4   0.108677                 KPIs_met >80%\n",
       "5   0.080317                   awards_won?\n",
       "6   0.000000            avg_training_score\n",
       "7   0.014421          department_Analytics\n",
       "8   0.012464            department_Finance\n",
       "9   0.008719                 department_HR\n",
       "10  0.005600              department_Legal\n",
       "11  0.019144         department_Operations\n",
       "12  0.018151        department_Procurement\n",
       "13  0.006282                department_R&D\n",
       "14  0.016844  department_Sales & Marketing\n",
       "15  0.017081         department_Technology\n",
       "16  0.005225               region_region_1\n",
       "17  0.005287              region_region_10\n",
       "18  0.007536              region_region_11\n",
       "19  0.004267              region_region_12\n",
       "20  0.012889              region_region_13\n",
       "21  0.006263              region_region_14\n",
       "22  0.013358              region_region_15\n",
       "23  0.008419              region_region_16\n",
       "24  0.008384              region_region_17\n",
       "25  0.000003              region_region_18\n",
       "26  0.005247              region_region_19\n",
       "27  0.020412               region_region_2\n",
       "28  0.006130              region_region_20\n",
       "29  0.003309              region_region_21\n",
       "30  0.014734              region_region_22\n",
       "31  0.010262              region_region_23\n",
       "32  0.003357              region_region_24\n",
       "33  0.007211              region_region_25\n",
       "34  0.010867              region_region_26\n",
       "35  0.010864              region_region_27\n",
       "36  0.008910              region_region_28\n",
       "37  0.005392              region_region_29\n",
       "38  0.005207               region_region_3\n",
       "39  0.006663              region_region_30\n",
       "40  0.009830              region_region_31\n",
       "41  0.003440              region_region_32\n",
       "42  0.002583              region_region_33\n",
       "43  0.001688              region_region_34\n",
       "44  0.009850               region_region_4\n",
       "45  0.005116               region_region_5\n",
       "46  0.004197               region_region_6\n",
       "47  0.015867               region_region_7\n",
       "48  0.006490               region_region_8\n",
       "49  0.002104               region_region_9\n",
       "50  0.017719          education_Bachelor's\n",
       "51  0.004452     education_Below Secondary\n",
       "52  0.017697    education_Master's & above\n",
       "53  0.023378                      gender_f\n",
       "54  0.023844                      gender_m\n",
       "55  0.033729     recruitment_channel_other\n",
       "56  0.008618  recruitment_channel_referred\n",
       "57  0.033490  recruitment_channel_sourcing\n",
       "58  0.000000             Source_prediction"
      ]
     },
     "execution_count": 170,
     "metadata": {},
     "output_type": "execute_result"
    }
   ],
   "source": [
    "Var_Importance_Df"
   ]
  },
  {
   "cell_type": "code",
   "execution_count": 171,
   "id": "15260a61",
   "metadata": {},
   "outputs": [],
   "source": [
    "Var_Importance_Df.columns = ['Value',\"Variable_Name\"]"
   ]
  },
  {
   "cell_type": "code",
   "execution_count": 172,
   "id": "c44f863a",
   "metadata": {},
   "outputs": [],
   "source": [
    "Var_Importance_Df.sort_values('Value',ascending = False,inplace = True)"
   ]
  },
  {
   "cell_type": "code",
   "execution_count": 173,
   "id": "5e02228a",
   "metadata": {},
   "outputs": [
    {
     "data": {
      "text/html": [
       "<div>\n",
       "<style scoped>\n",
       "    .dataframe tbody tr th:only-of-type {\n",
       "        vertical-align: middle;\n",
       "    }\n",
       "\n",
       "    .dataframe tbody tr th {\n",
       "        vertical-align: top;\n",
       "    }\n",
       "\n",
       "    .dataframe thead th {\n",
       "        text-align: right;\n",
       "    }\n",
       "</style>\n",
       "<table border=\"1\" class=\"dataframe\">\n",
       "  <thead>\n",
       "    <tr style=\"text-align: right;\">\n",
       "      <th></th>\n",
       "      <th>Value</th>\n",
       "      <th>Variable_Name</th>\n",
       "    </tr>\n",
       "  </thead>\n",
       "  <tbody>\n",
       "    <tr>\n",
       "      <th>2</th>\n",
       "      <td>0.189275</td>\n",
       "      <td>previous_year_rating</td>\n",
       "    </tr>\n",
       "    <tr>\n",
       "      <th>4</th>\n",
       "      <td>0.108677</td>\n",
       "      <td>KPIs_met &gt;80%</td>\n",
       "    </tr>\n",
       "    <tr>\n",
       "      <th>0</th>\n",
       "      <td>0.088742</td>\n",
       "      <td>no_of_trainings</td>\n",
       "    </tr>\n",
       "    <tr>\n",
       "      <th>5</th>\n",
       "      <td>0.080317</td>\n",
       "      <td>awards_won?</td>\n",
       "    </tr>\n",
       "    <tr>\n",
       "      <th>55</th>\n",
       "      <td>0.033729</td>\n",
       "      <td>recruitment_channel_other</td>\n",
       "    </tr>\n",
       "    <tr>\n",
       "      <th>57</th>\n",
       "      <td>0.033490</td>\n",
       "      <td>recruitment_channel_sourcing</td>\n",
       "    </tr>\n",
       "    <tr>\n",
       "      <th>54</th>\n",
       "      <td>0.023844</td>\n",
       "      <td>gender_m</td>\n",
       "    </tr>\n",
       "    <tr>\n",
       "      <th>53</th>\n",
       "      <td>0.023378</td>\n",
       "      <td>gender_f</td>\n",
       "    </tr>\n",
       "    <tr>\n",
       "      <th>27</th>\n",
       "      <td>0.020412</td>\n",
       "      <td>region_region_2</td>\n",
       "    </tr>\n",
       "    <tr>\n",
       "      <th>11</th>\n",
       "      <td>0.019144</td>\n",
       "      <td>department_Operations</td>\n",
       "    </tr>\n",
       "    <tr>\n",
       "      <th>12</th>\n",
       "      <td>0.018151</td>\n",
       "      <td>department_Procurement</td>\n",
       "    </tr>\n",
       "    <tr>\n",
       "      <th>50</th>\n",
       "      <td>0.017719</td>\n",
       "      <td>education_Bachelor's</td>\n",
       "    </tr>\n",
       "    <tr>\n",
       "      <th>52</th>\n",
       "      <td>0.017697</td>\n",
       "      <td>education_Master's &amp; above</td>\n",
       "    </tr>\n",
       "    <tr>\n",
       "      <th>15</th>\n",
       "      <td>0.017081</td>\n",
       "      <td>department_Technology</td>\n",
       "    </tr>\n",
       "    <tr>\n",
       "      <th>14</th>\n",
       "      <td>0.016844</td>\n",
       "      <td>department_Sales &amp; Marketing</td>\n",
       "    </tr>\n",
       "    <tr>\n",
       "      <th>47</th>\n",
       "      <td>0.015867</td>\n",
       "      <td>region_region_7</td>\n",
       "    </tr>\n",
       "    <tr>\n",
       "      <th>30</th>\n",
       "      <td>0.014734</td>\n",
       "      <td>region_region_22</td>\n",
       "    </tr>\n",
       "    <tr>\n",
       "      <th>7</th>\n",
       "      <td>0.014421</td>\n",
       "      <td>department_Analytics</td>\n",
       "    </tr>\n",
       "    <tr>\n",
       "      <th>22</th>\n",
       "      <td>0.013358</td>\n",
       "      <td>region_region_15</td>\n",
       "    </tr>\n",
       "    <tr>\n",
       "      <th>20</th>\n",
       "      <td>0.012889</td>\n",
       "      <td>region_region_13</td>\n",
       "    </tr>\n",
       "    <tr>\n",
       "      <th>8</th>\n",
       "      <td>0.012464</td>\n",
       "      <td>department_Finance</td>\n",
       "    </tr>\n",
       "    <tr>\n",
       "      <th>34</th>\n",
       "      <td>0.010867</td>\n",
       "      <td>region_region_26</td>\n",
       "    </tr>\n",
       "    <tr>\n",
       "      <th>35</th>\n",
       "      <td>0.010864</td>\n",
       "      <td>region_region_27</td>\n",
       "    </tr>\n",
       "    <tr>\n",
       "      <th>31</th>\n",
       "      <td>0.010262</td>\n",
       "      <td>region_region_23</td>\n",
       "    </tr>\n",
       "    <tr>\n",
       "      <th>44</th>\n",
       "      <td>0.009850</td>\n",
       "      <td>region_region_4</td>\n",
       "    </tr>\n",
       "    <tr>\n",
       "      <th>40</th>\n",
       "      <td>0.009830</td>\n",
       "      <td>region_region_31</td>\n",
       "    </tr>\n",
       "    <tr>\n",
       "      <th>36</th>\n",
       "      <td>0.008910</td>\n",
       "      <td>region_region_28</td>\n",
       "    </tr>\n",
       "    <tr>\n",
       "      <th>9</th>\n",
       "      <td>0.008719</td>\n",
       "      <td>department_HR</td>\n",
       "    </tr>\n",
       "    <tr>\n",
       "      <th>56</th>\n",
       "      <td>0.008618</td>\n",
       "      <td>recruitment_channel_referred</td>\n",
       "    </tr>\n",
       "    <tr>\n",
       "      <th>23</th>\n",
       "      <td>0.008419</td>\n",
       "      <td>region_region_16</td>\n",
       "    </tr>\n",
       "    <tr>\n",
       "      <th>24</th>\n",
       "      <td>0.008384</td>\n",
       "      <td>region_region_17</td>\n",
       "    </tr>\n",
       "    <tr>\n",
       "      <th>18</th>\n",
       "      <td>0.007536</td>\n",
       "      <td>region_region_11</td>\n",
       "    </tr>\n",
       "    <tr>\n",
       "      <th>33</th>\n",
       "      <td>0.007211</td>\n",
       "      <td>region_region_25</td>\n",
       "    </tr>\n",
       "    <tr>\n",
       "      <th>39</th>\n",
       "      <td>0.006663</td>\n",
       "      <td>region_region_30</td>\n",
       "    </tr>\n",
       "    <tr>\n",
       "      <th>48</th>\n",
       "      <td>0.006490</td>\n",
       "      <td>region_region_8</td>\n",
       "    </tr>\n",
       "    <tr>\n",
       "      <th>13</th>\n",
       "      <td>0.006282</td>\n",
       "      <td>department_R&amp;D</td>\n",
       "    </tr>\n",
       "    <tr>\n",
       "      <th>21</th>\n",
       "      <td>0.006263</td>\n",
       "      <td>region_region_14</td>\n",
       "    </tr>\n",
       "    <tr>\n",
       "      <th>28</th>\n",
       "      <td>0.006130</td>\n",
       "      <td>region_region_20</td>\n",
       "    </tr>\n",
       "    <tr>\n",
       "      <th>10</th>\n",
       "      <td>0.005600</td>\n",
       "      <td>department_Legal</td>\n",
       "    </tr>\n",
       "    <tr>\n",
       "      <th>37</th>\n",
       "      <td>0.005392</td>\n",
       "      <td>region_region_29</td>\n",
       "    </tr>\n",
       "    <tr>\n",
       "      <th>17</th>\n",
       "      <td>0.005287</td>\n",
       "      <td>region_region_10</td>\n",
       "    </tr>\n",
       "    <tr>\n",
       "      <th>26</th>\n",
       "      <td>0.005247</td>\n",
       "      <td>region_region_19</td>\n",
       "    </tr>\n",
       "    <tr>\n",
       "      <th>16</th>\n",
       "      <td>0.005225</td>\n",
       "      <td>region_region_1</td>\n",
       "    </tr>\n",
       "    <tr>\n",
       "      <th>38</th>\n",
       "      <td>0.005207</td>\n",
       "      <td>region_region_3</td>\n",
       "    </tr>\n",
       "    <tr>\n",
       "      <th>45</th>\n",
       "      <td>0.005116</td>\n",
       "      <td>region_region_5</td>\n",
       "    </tr>\n",
       "    <tr>\n",
       "      <th>51</th>\n",
       "      <td>0.004452</td>\n",
       "      <td>education_Below Secondary</td>\n",
       "    </tr>\n",
       "    <tr>\n",
       "      <th>19</th>\n",
       "      <td>0.004267</td>\n",
       "      <td>region_region_12</td>\n",
       "    </tr>\n",
       "    <tr>\n",
       "      <th>46</th>\n",
       "      <td>0.004197</td>\n",
       "      <td>region_region_6</td>\n",
       "    </tr>\n",
       "    <tr>\n",
       "      <th>41</th>\n",
       "      <td>0.003440</td>\n",
       "      <td>region_region_32</td>\n",
       "    </tr>\n",
       "    <tr>\n",
       "      <th>32</th>\n",
       "      <td>0.003357</td>\n",
       "      <td>region_region_24</td>\n",
       "    </tr>\n",
       "    <tr>\n",
       "      <th>29</th>\n",
       "      <td>0.003309</td>\n",
       "      <td>region_region_21</td>\n",
       "    </tr>\n",
       "    <tr>\n",
       "      <th>42</th>\n",
       "      <td>0.002583</td>\n",
       "      <td>region_region_33</td>\n",
       "    </tr>\n",
       "    <tr>\n",
       "      <th>49</th>\n",
       "      <td>0.002104</td>\n",
       "      <td>region_region_9</td>\n",
       "    </tr>\n",
       "    <tr>\n",
       "      <th>43</th>\n",
       "      <td>0.001688</td>\n",
       "      <td>region_region_34</td>\n",
       "    </tr>\n",
       "    <tr>\n",
       "      <th>25</th>\n",
       "      <td>0.000003</td>\n",
       "      <td>region_region_18</td>\n",
       "    </tr>\n",
       "    <tr>\n",
       "      <th>1</th>\n",
       "      <td>0.000000</td>\n",
       "      <td>age</td>\n",
       "    </tr>\n",
       "    <tr>\n",
       "      <th>6</th>\n",
       "      <td>0.000000</td>\n",
       "      <td>avg_training_score</td>\n",
       "    </tr>\n",
       "    <tr>\n",
       "      <th>3</th>\n",
       "      <td>0.000000</td>\n",
       "      <td>length_of_service</td>\n",
       "    </tr>\n",
       "    <tr>\n",
       "      <th>58</th>\n",
       "      <td>0.000000</td>\n",
       "      <td>Source_prediction</td>\n",
       "    </tr>\n",
       "  </tbody>\n",
       "</table>\n",
       "</div>"
      ],
      "text/plain": [
       "       Value                 Variable_Name\n",
       "2   0.189275          previous_year_rating\n",
       "4   0.108677                 KPIs_met >80%\n",
       "0   0.088742               no_of_trainings\n",
       "5   0.080317                   awards_won?\n",
       "55  0.033729     recruitment_channel_other\n",
       "57  0.033490  recruitment_channel_sourcing\n",
       "54  0.023844                      gender_m\n",
       "53  0.023378                      gender_f\n",
       "27  0.020412               region_region_2\n",
       "11  0.019144         department_Operations\n",
       "12  0.018151        department_Procurement\n",
       "50  0.017719          education_Bachelor's\n",
       "52  0.017697    education_Master's & above\n",
       "15  0.017081         department_Technology\n",
       "14  0.016844  department_Sales & Marketing\n",
       "47  0.015867               region_region_7\n",
       "30  0.014734              region_region_22\n",
       "7   0.014421          department_Analytics\n",
       "22  0.013358              region_region_15\n",
       "20  0.012889              region_region_13\n",
       "8   0.012464            department_Finance\n",
       "34  0.010867              region_region_26\n",
       "35  0.010864              region_region_27\n",
       "31  0.010262              region_region_23\n",
       "44  0.009850               region_region_4\n",
       "40  0.009830              region_region_31\n",
       "36  0.008910              region_region_28\n",
       "9   0.008719                 department_HR\n",
       "56  0.008618  recruitment_channel_referred\n",
       "23  0.008419              region_region_16\n",
       "24  0.008384              region_region_17\n",
       "18  0.007536              region_region_11\n",
       "33  0.007211              region_region_25\n",
       "39  0.006663              region_region_30\n",
       "48  0.006490               region_region_8\n",
       "13  0.006282                department_R&D\n",
       "21  0.006263              region_region_14\n",
       "28  0.006130              region_region_20\n",
       "10  0.005600              department_Legal\n",
       "37  0.005392              region_region_29\n",
       "17  0.005287              region_region_10\n",
       "26  0.005247              region_region_19\n",
       "16  0.005225               region_region_1\n",
       "38  0.005207               region_region_3\n",
       "45  0.005116               region_region_5\n",
       "51  0.004452     education_Below Secondary\n",
       "19  0.004267              region_region_12\n",
       "46  0.004197               region_region_6\n",
       "41  0.003440              region_region_32\n",
       "32  0.003357              region_region_24\n",
       "29  0.003309              region_region_21\n",
       "42  0.002583              region_region_33\n",
       "49  0.002104               region_region_9\n",
       "43  0.001688              region_region_34\n",
       "25  0.000003              region_region_18\n",
       "1   0.000000                           age\n",
       "6   0.000000            avg_training_score\n",
       "3   0.000000             length_of_service\n",
       "58  0.000000             Source_prediction"
      ]
     },
     "execution_count": 173,
     "metadata": {},
     "output_type": "execute_result"
    }
   ],
   "source": [
    "Var_Importance_Df"
   ]
  },
  {
   "cell_type": "code",
   "execution_count": 180,
   "id": "da7fe986",
   "metadata": {},
   "outputs": [],
   "source": [
    "Var_Importance_Df.to_csv('Var_ImportanceDf.csv',index=False)"
   ]
  },
  {
   "cell_type": "code",
   "execution_count": 181,
   "id": "be01ddce",
   "metadata": {},
   "outputs": [],
   "source": [
    "# How to use feature importance\n",
    "temp_median = Var_Importance_Df['Value'].median()\n",
    "tempDf=Var_Importance_Df[Var_Importance_Df['Value']>temp_median]\n",
    "tempDf.shape\n",
    "impVars = list(tempDf['Variable_Name'])\n",
    "M1_RF_ImpVar = RandomForestClassifier(random_state = 97).fit(trainX[impVars],trainY)"
   ]
  },
  {
   "cell_type": "code",
   "execution_count": 182,
   "id": "a23f61d7",
   "metadata": {},
   "outputs": [
    {
     "data": {
      "image/png": "[encoded data removed]",
      "text/plain": [
       "<Figure size 432x288 with 1 Axes>"
      ]
     },
     "metadata": {
      "needs_background": "light"
     },
     "output_type": "display_data"
    }
   ],
   "source": [
    "import seaborn as sns\n",
    "plot = sns.scatterplot(x=\"Variable_Name\",y = 'Value',data = Var_Importance_Df)"
   ]
  },
  {
   "cell_type": "markdown",
   "id": "160167a6",
   "metadata": {},
   "source": [
    "### RF Model with tuning parameters/ hyperparameter tuning\n"
   ]
  },
  {
   "cell_type": "code",
   "execution_count": 177,
   "id": "01bd55c6",
   "metadata": {},
   "outputs": [],
   "source": [
    "M2_RF = RandomForestClassifier(random_state = 97,n_estimators = 25,\n",
    "                              max_features = 5, min_samples_leaf = 500)\n",
    "M2_RF=M2_RF.fit(trainX,trainY)\n",
    "Test_Pred = M2_RF.predict(testX)"
   ]
  },
  {
   "cell_type": "code",
   "execution_count": 178,
   "id": "caf37b69",
   "metadata": {},
   "outputs": [
    {
     "data": {
      "text/html": [
       "<div>\n",
       "<style scoped>\n",
       "    .dataframe tbody tr th:only-of-type {\n",
       "        vertical-align: middle;\n",
       "    }\n",
       "\n",
       "    .dataframe tbody tr th {\n",
       "        vertical-align: top;\n",
       "    }\n",
       "\n",
       "    .dataframe thead th {\n",
       "        text-align: right;\n",
       "    }\n",
       "</style>\n",
       "<table border=\"1\" class=\"dataframe\">\n",
       "  <thead>\n",
       "    <tr style=\"text-align: right;\">\n",
       "      <th>col_0</th>\n",
       "      <th>0</th>\n",
       "    </tr>\n",
       "    <tr>\n",
       "      <th>is_promoted</th>\n",
       "      <th></th>\n",
       "    </tr>\n",
       "  </thead>\n",
       "  <tbody>\n",
       "    <tr>\n",
       "      <th>0</th>\n",
       "      <td>15049</td>\n",
       "    </tr>\n",
       "    <tr>\n",
       "      <th>1</th>\n",
       "      <td>1394</td>\n",
       "    </tr>\n",
       "  </tbody>\n",
       "</table>\n",
       "</div>"
      ],
      "text/plain": [
       "col_0            0\n",
       "is_promoted       \n",
       "0            15049\n",
       "1             1394"
      ]
     },
     "execution_count": 178,
     "metadata": {},
     "output_type": "execute_result"
    }
   ],
   "source": [
    "#confusion matrix\n",
    "confusion_Mat =pd.crosstab(testY,Test_Pred) #R,C \n",
    "confusion_Mat # actual, predicted"
   ]
  },
  {
   "cell_type": "code",
   "execution_count": 179,
   "id": "3e7006cd",
   "metadata": {},
   "outputs": [
    {
     "name": "stdout",
     "output_type": "stream",
     "text": [
      "              precision    recall  f1-score   support\n",
      "\n",
      "           0       0.92      1.00      0.96     15049\n",
      "           1       0.00      0.00      0.00      1394\n",
      "\n",
      "    accuracy                           0.92     16443\n",
      "   macro avg       0.46      0.50      0.48     16443\n",
      "weighted avg       0.84      0.92      0.87     16443\n",
      "\n"
     ]
    },
    {
     "name": "stderr",
     "output_type": "stream",
     "text": [
      "C:\\Users\\hp\\anaconda3\\lib\\site-packages\\sklearn\\metrics\\_classification.py:1318: UndefinedMetricWarning: Precision and F-score are ill-defined and being set to 0.0 in labels with no predicted samples. Use `zero_division` parameter to control this behavior.\n",
      "  _warn_prf(average, modifier, msg_start, len(result))\n",
      "C:\\Users\\hp\\anaconda3\\lib\\site-packages\\sklearn\\metrics\\_classification.py:1318: UndefinedMetricWarning: Precision and F-score are ill-defined and being set to 0.0 in labels with no predicted samples. Use `zero_division` parameter to control this behavior.\n",
      "  _warn_prf(average, modifier, msg_start, len(result))\n",
      "C:\\Users\\hp\\anaconda3\\lib\\site-packages\\sklearn\\metrics\\_classification.py:1318: UndefinedMetricWarning: Precision and F-score are ill-defined and being set to 0.0 in labels with no predicted samples. Use `zero_division` parameter to control this behavior.\n",
      "  _warn_prf(average, modifier, msg_start, len(result))\n"
     ]
    }
   ],
   "source": [
    "#Validation on testset\n",
    "print(classification_report(testY,Test_Pred)) # actual,predicted\n"
   ]
  },
  {
   "cell_type": "markdown",
   "id": "9deb6c4d",
   "metadata": {},
   "source": [
    "### Random Forest using GridSearchCV\n"
   ]
  },
  {
   "cell_type": "code",
   "execution_count": 183,
   "id": "86993a81",
   "metadata": {},
   "outputs": [],
   "source": [
    "n_estimators_List = [25, 50, 75] # range(25,100,25)\n",
    "max_features_List = [5, 7, 9] # range(5,11,2)\n",
    "min_samples_leaf_List = [5, 10, 25, 50]\n",
    "\n",
    "from sklearn.model_selection import GridSearchCV\n",
    "my_param_grid = {'n_estimators':n_estimators_List,\n",
    "                'max_features': max_features_List,\n",
    "                'min_samples_leaf':min_samples_leaf_List}\n",
    "Grid_Search_Model = GridSearchCV(estimator = RandomForestClassifier(random_state=97),\n",
    "                                param_grid = my_param_grid,\n",
    "                                scoring = 'accuracy',\n",
    "                                cv=3).fit(trainX,trainY) #param_grid is a dictionary\n"
   ]
  },
  {
   "cell_type": "code",
   "execution_count": 184,
   "id": "052eb4e0",
   "metadata": {},
   "outputs": [],
   "source": [
    "Model_Validation_Df4 = pd.DataFrame.from_dict(Grid_Search_Model.cv_results_)"
   ]
  },
  {
   "cell_type": "code",
   "execution_count": 185,
   "id": "041d737f",
   "metadata": {},
   "outputs": [],
   "source": [
    "Model_Validation_Df4\n",
    "Model_Validation_Df4.to_csv('model4.csv',index=False)"
   ]
  },
  {
   "cell_type": "code",
   "execution_count": 195,
   "id": "fca35bc6",
   "metadata": {},
   "outputs": [],
   "source": [
    "#Based on the selected hyperparameters, you should build a final model on the complete training data (trainX,trainY)\n",
    "RF_Final = RandomForestClassifier(random_state =97,n_estimators = 75,max_features= 5,\n",
    "                                 min_samples_leaf =10).fit(trainX,trainY)\n",
    "Test_Pred=RF_Final.predict(testX)"
   ]
  },
  {
   "cell_type": "code",
   "execution_count": 196,
   "id": "c2389736",
   "metadata": {},
   "outputs": [
    {
     "data": {
      "text/html": [
       "<div>\n",
       "<style scoped>\n",
       "    .dataframe tbody tr th:only-of-type {\n",
       "        vertical-align: middle;\n",
       "    }\n",
       "\n",
       "    .dataframe tbody tr th {\n",
       "        vertical-align: top;\n",
       "    }\n",
       "\n",
       "    .dataframe thead th {\n",
       "        text-align: right;\n",
       "    }\n",
       "</style>\n",
       "<table border=\"1\" class=\"dataframe\">\n",
       "  <thead>\n",
       "    <tr style=\"text-align: right;\">\n",
       "      <th>col_0</th>\n",
       "      <th>0</th>\n",
       "    </tr>\n",
       "    <tr>\n",
       "      <th>is_promoted</th>\n",
       "      <th></th>\n",
       "    </tr>\n",
       "  </thead>\n",
       "  <tbody>\n",
       "    <tr>\n",
       "      <th>0</th>\n",
       "      <td>15049</td>\n",
       "    </tr>\n",
       "    <tr>\n",
       "      <th>1</th>\n",
       "      <td>1394</td>\n",
       "    </tr>\n",
       "  </tbody>\n",
       "</table>\n",
       "</div>"
      ],
      "text/plain": [
       "col_0            0\n",
       "is_promoted       \n",
       "0            15049\n",
       "1             1394"
      ]
     },
     "execution_count": 196,
     "metadata": {},
     "output_type": "execute_result"
    }
   ],
   "source": [
    "#confusion matrix\n",
    "confusion_Mat= pd.crosstab(testY,Test_Pred) #R,C\n",
    "confusion_Mat"
   ]
  },
  {
   "cell_type": "code",
   "execution_count": 197,
   "id": "392d45ca",
   "metadata": {},
   "outputs": [
    {
     "name": "stdout",
     "output_type": "stream",
     "text": [
      "              precision    recall  f1-score   support\n",
      "\n",
      "           0       0.92      1.00      0.96     15049\n",
      "           1       0.00      0.00      0.00      1394\n",
      "\n",
      "    accuracy                           0.92     16443\n",
      "   macro avg       0.46      0.50      0.48     16443\n",
      "weighted avg       0.84      0.92      0.87     16443\n",
      "\n"
     ]
    },
    {
     "name": "stderr",
     "output_type": "stream",
     "text": [
      "C:\\Users\\hp\\anaconda3\\lib\\site-packages\\sklearn\\metrics\\_classification.py:1318: UndefinedMetricWarning: Precision and F-score are ill-defined and being set to 0.0 in labels with no predicted samples. Use `zero_division` parameter to control this behavior.\n",
      "  _warn_prf(average, modifier, msg_start, len(result))\n",
      "C:\\Users\\hp\\anaconda3\\lib\\site-packages\\sklearn\\metrics\\_classification.py:1318: UndefinedMetricWarning: Precision and F-score are ill-defined and being set to 0.0 in labels with no predicted samples. Use `zero_division` parameter to control this behavior.\n",
      "  _warn_prf(average, modifier, msg_start, len(result))\n",
      "C:\\Users\\hp\\anaconda3\\lib\\site-packages\\sklearn\\metrics\\_classification.py:1318: UndefinedMetricWarning: Precision and F-score are ill-defined and being set to 0.0 in labels with no predicted samples. Use `zero_division` parameter to control this behavior.\n",
      "  _warn_prf(average, modifier, msg_start, len(result))\n"
     ]
    }
   ],
   "source": [
    "#validation on testset\n",
    "print(classification_report(testY,Test_Pred)) # actual,pred"
   ]
  },
  {
   "cell_type": "code",
   "execution_count": 123,
   "id": "885f031f",
   "metadata": {},
   "outputs": [],
   "source": [
    "#prediction on prediction dataset\n",
    "predX['is_promoted']=RF_Final.predict(predX)\n",
    "RF_output=pd.DataFrame()\n",
    "RF_output=pd.concat([predDf['employee_id'],predX['is_promoted']],axis=1)\n",
    "RF_output.to_csv('RF_ouput.csv',index=False)"
   ]
  },
  {
   "cell_type": "code",
   "execution_count": null,
   "id": "b08bb219",
   "metadata": {},
   "outputs": [],
   "source": []
  }
 ],
 "metadata": {
  "kernelspec": {
   "display_name": "Python 3 (ipykernel)",
   "language": "python",
   "name": "python3"
  },
  "language_info": {
   "codemirror_mode": {
    "name": "ipython",
    "version": 3
   },
   "file_extension": ".py",
   "mimetype": "text/x-python",
   "name": "python",
   "nbconvert_exporter": "python",
   "pygments_lexer": "ipython3",
   "version": "3.9.7"
  }
 },
 "nbformat": 4,
 "nbformat_minor": 5
}
